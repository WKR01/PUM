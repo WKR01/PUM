{
  "nbformat": 4,
  "nbformat_minor": 0,
  "metadata": {
    "colab": {
      "provenance": [],
      "authorship_tag": "ABX9TyNIpN6y4RRFWQzX4k+ZK7l2",
      "include_colab_link": true
    },
    "kernelspec": {
      "name": "python3",
      "display_name": "Python 3"
    },
    "language_info": {
      "name": "python"
    }
  },
  "cells": [
    {
      "cell_type": "markdown",
      "metadata": {
        "id": "view-in-github",
        "colab_type": "text"
      },
      "source": [
        "<a href=\"https://colab.research.google.com/github/WKR01/PUM/blob/main/ML3.ipynb\" target=\"_parent\"><img src=\"https://colab.research.google.com/assets/colab-badge.svg\" alt=\"Open In Colab\"/></a>"
      ]
    },
    {
      "cell_type": "code",
      "execution_count": 8,
      "metadata": {
        "id": "v-VcU4RdpFDO"
      },
      "outputs": [],
      "source": [
        "import pandas as pd\n",
        "from numpy import mean\n",
        "from numpy import std\n",
        "from numpy import absolute\n",
        "\n",
        "from matplotlib import pyplot\n",
        "\n",
        "from sklearn.datasets import fetch_california_housing\n",
        "\n",
        "from sklearn.model_selection import cross_val_score\n",
        "from sklearn.model_selection import KFold\n",
        "from sklearn.model_selection import RepeatedKFold\n",
        "\n",
        "from sklearn.pipeline import Pipeline\n",
        "\n",
        "from sklearn.linear_model import LinearRegression\n",
        "from sklearn.linear_model import HuberRegressor\n",
        "from sklearn.compose import TransformedTargetRegressor\n",
        "\n",
        "from sklearn.preprocessing import PolynomialFeatures\n",
        "from sklearn.preprocessing import MinMaxScaler\n",
        "\n",
        "from sklearn.metrics import mean_squared_error\n",
        "\n",
        "from sklearn.neighbors import KNeighborsRegressor"
      ]
    },
    {
      "cell_type": "code",
      "source": [
        "#load data\n",
        "housing = fetch_california_housing()\n",
        "print(housing.data.shape, housing.target.shape)\n",
        "print(housing.feature_names)\n",
        "X = pd.DataFrame(data = housing.data, columns = housing.feature_names)\n",
        "print(X.head())\n",
        "y=housing.target"
      ],
      "metadata": {
        "colab": {
          "base_uri": "https://localhost:8080/"
        },
        "id": "B3BVGSUZqqPD",
        "outputId": "8303dcf9-de76-49ec-a897-4c29896f8876"
      },
      "execution_count": 6,
      "outputs": [
        {
          "output_type": "stream",
          "name": "stdout",
          "text": [
            "(20640, 8) (20640,)\n",
            "['MedInc', 'HouseAge', 'AveRooms', 'AveBedrms', 'Population', 'AveOccup', 'Latitude', 'Longitude']\n",
            "   MedInc  HouseAge  AveRooms  AveBedrms  Population  AveOccup  Latitude  \\\n",
            "0  8.3252      41.0  6.984127   1.023810       322.0  2.555556     37.88   \n",
            "1  8.3014      21.0  6.238137   0.971880      2401.0  2.109842     37.86   \n",
            "2  7.2574      52.0  8.288136   1.073446       496.0  2.802260     37.85   \n",
            "3  5.6431      52.0  5.817352   1.073059       558.0  2.547945     37.85   \n",
            "4  3.8462      52.0  6.281853   1.081081       565.0  2.181467     37.85   \n",
            "\n",
            "   Longitude  \n",
            "0    -122.23  \n",
            "1    -122.22  \n",
            "2    -122.24  \n",
            "3    -122.25  \n",
            "4    -122.25  \n"
          ]
        }
      ]
    },
    {
      "cell_type": "code",
      "source": [
        "\n",
        "models = {\n",
        "    'Liniowa': Pipeline([\n",
        "        ('scaler', MinMaxScaler()),\n",
        "        ('regressor', LinearRegression())\n",
        "    ]),\n",
        "    'Wielomianowa 2 stopnia': Pipeline([\n",
        "        ('poly', PolynomialFeatures(degree=2)),\n",
        "        ('scaler', MinMaxScaler()),\n",
        "        ('regressor', LinearRegression())\n",
        "    ]),\n",
        "    'Wielomianowa 3 stopnia': Pipeline([\n",
        "        ('poly', PolynomialFeatures(degree=3)),\n",
        "        ('scaler', MinMaxScaler()),\n",
        "        ('regressor', LinearRegression())\n",
        "    ]),\n",
        "    'Regresja KNN': Pipeline([\n",
        "        ('scaler', MinMaxScaler()),\n",
        "        ('regressor', KNeighborsRegressor())\n",
        "    ])\n",
        "}\n",
        "\n"
      ],
      "metadata": {
        "colab": {
          "base_uri": "https://localhost:8080/"
        },
        "id": "KS8fk6ZrxTrk",
        "outputId": "e768e741-cfd9-4ef6-ec59-fb3dbf938d3c"
      },
      "execution_count": 26,
      "outputs": [
        {
          "output_type": "stream",
          "name": "stdout",
          "text": [
            "K-NN Regression\n",
            "K-NN Regression\n"
          ]
        }
      ]
    },
    {
      "cell_type": "code",
      "source": [
        "cv = RepeatedKFold(n_splits=10, n_repeats=3, random_state=42)\n",
        "\n",
        "results = {}\n",
        "for name, model in models.items():\n",
        "    print(name)\n",
        "    print(model)\n",
        "    scores = cross_val_score(model, X, y, scoring='neg_mean_squared_error', cv=cv, n_jobs=-1)\n",
        "    results[name] = scores\n",
        "\n",
        "    print(scores)"
      ],
      "metadata": {
        "colab": {
          "base_uri": "https://localhost:8080/"
        },
        "id": "JgWE4MsHx0UO",
        "outputId": "fd12ad07-69b8-4825-bd12-e2b4af63594a"
      },
      "execution_count": 27,
      "outputs": [
        {
          "output_type": "stream",
          "name": "stdout",
          "text": [
            "Liniowa\n",
            "Pipeline(steps=[('scaler', MinMaxScaler()), ('regressor', LinearRegression())])\n",
            "[-0.55900192 -0.5531233  -0.48116128 -0.57420367 -0.48897584 -0.52838818\n",
            " -0.55117824 -0.47483961 -0.56436922 -0.55002537 -0.52419071 -0.50990826\n",
            " -0.4927451  -0.52187232 -0.57684496 -0.51097303 -0.54946916 -0.53063968\n",
            " -0.5354776  -0.53062219 -0.54412356 -0.582244   -0.50813223 -0.51750348\n",
            " -0.53175369 -0.51408439 -0.50993089 -0.49984912 -0.53555974 -0.53200145]\n",
            "Wielomianowa 2 stopnia\n",
            "Pipeline(steps=[('poly', PolynomialFeatures()), ('scaler', MinMaxScaler()),\n",
            "                ('regressor', LinearRegression())])\n",
            "[-4.90242539e-01 -4.76788098e-01 -4.04549060e-01 -4.90241382e-01\n",
            " -4.00722113e-01 -4.75368048e-01 -8.18323275e+02 -3.74832352e-01\n",
            " -5.26787446e-01 -4.71672622e-01 -4.71290701e-01 -4.23470763e-01\n",
            " -2.31827432e+01 -7.26810840e+00 -4.98549693e-01 -4.23719648e-01\n",
            " -4.43404988e-01 -4.38878615e-01 -4.58514306e-01 -4.73615620e-01\n",
            " -5.25832614e-01 -1.82265821e+01 -4.27346725e-01 -4.05385587e-01\n",
            " -3.77965731e+01 -4.06867786e-01 -4.10022688e-01 -4.45621345e-01\n",
            " -4.24422893e-01 -4.70788930e-01]\n",
            "Wielomianowa 3 stopnia\n",
            "Pipeline(steps=[('poly', PolynomialFeatures(degree=3)),\n",
            "                ('scaler', MinMaxScaler()), ('regressor', LinearRegression())])\n",
            "[-1.85598655e+01 -2.74829452e+01 -3.41699140e-01 -1.74533154e+02\n",
            " -3.47082985e-01 -1.66425295e+00 -1.43224797e+07 -3.36495826e-01\n",
            " -1.58244741e+01 -5.01910300e+03 -1.29595393e+01 -3.47924573e-01\n",
            " -1.10180187e+05 -3.95277191e+05 -5.23221631e+00 -2.08904236e+00\n",
            " -2.10879223e+01 -3.97577634e-01 -4.25933371e-01 -9.38660074e-01\n",
            " -1.72838256e+01 -1.20992876e+05 -3.77211532e-01 -3.92088034e-01\n",
            " -2.90028772e+05 -3.58619781e-01 -3.50261532e-01 -1.34463686e+01\n",
            " -3.60218862e-01 -1.71353577e+02]\n",
            "Regresja KNN\n",
            "Pipeline(steps=[('scaler', MinMaxScaler()),\n",
            "                ('regressor', KNeighborsRegressor())])\n",
            "[-0.42470126 -0.38948655 -0.37052426 -0.42897019 -0.34303444 -0.42032169\n",
            " -0.38538064 -0.34813751 -0.39972477 -0.40187493 -0.39195567 -0.39099275\n",
            " -0.38519421 -0.40278267 -0.4136492  -0.36219079 -0.38112151 -0.40266205\n",
            " -0.39609249 -0.38664437 -0.40341361 -0.39822564 -0.36992334 -0.41329264\n",
            " -0.39686985 -0.36393984 -0.38331423 -0.36445432 -0.40178301 -0.41983919]\n"
          ]
        }
      ]
    },
    {
      "cell_type": "code",
      "source": [],
      "metadata": {
        "id": "OcT4QjHd59Bg"
      },
      "execution_count": null,
      "outputs": []
    },
    {
      "cell_type": "code",
      "source": [
        "print(results)\n",
        "pyplot.figure(figsize=(10, 6))\n",
        "pyplot.boxplot(results.values(), labels=results.keys(), showmeans=True)\n",
        "pyplot.xticks(rotation=45)\n",
        "pyplot.ylim(-2, 0)\n",
        "#pyplot.ylabel('Średni błąd')\n",
        "pyplot.show()"
      ],
      "metadata": {
        "colab": {
          "base_uri": "https://localhost:8080/",
          "height": 1000
        },
        "id": "PUsE4y4Rx7iu",
        "outputId": "b4a8af3d-c391-4966-9e91-69d2aedfff2f"
      },
      "execution_count": 31,
      "outputs": [
        {
          "output_type": "stream",
          "name": "stdout",
          "text": [
            "{'Liniowa': array([-0.55900192, -0.5531233 , -0.48116128, -0.57420367, -0.48897584,\n",
            "       -0.52838818, -0.55117824, -0.47483961, -0.56436922, -0.55002537,\n",
            "       -0.52419071, -0.50990826, -0.4927451 , -0.52187232, -0.57684496,\n",
            "       -0.51097303, -0.54946916, -0.53063968, -0.5354776 , -0.53062219,\n",
            "       -0.54412356, -0.582244  , -0.50813223, -0.51750348, -0.53175369,\n",
            "       -0.51408439, -0.50993089, -0.49984912, -0.53555974, -0.53200145]), 'Wielomianowa 2 stopnia': array([-4.90242539e-01, -4.76788098e-01, -4.04549060e-01, -4.90241382e-01,\n",
            "       -4.00722113e-01, -4.75368048e-01, -8.18323275e+02, -3.74832352e-01,\n",
            "       -5.26787446e-01, -4.71672622e-01, -4.71290701e-01, -4.23470763e-01,\n",
            "       -2.31827432e+01, -7.26810840e+00, -4.98549693e-01, -4.23719648e-01,\n",
            "       -4.43404988e-01, -4.38878615e-01, -4.58514306e-01, -4.73615620e-01,\n",
            "       -5.25832614e-01, -1.82265821e+01, -4.27346725e-01, -4.05385587e-01,\n",
            "       -3.77965731e+01, -4.06867786e-01, -4.10022688e-01, -4.45621345e-01,\n",
            "       -4.24422893e-01, -4.70788930e-01]), 'Wielomianowa 3 stopnia': array([-1.85598655e+01, -2.74829452e+01, -3.41699140e-01, -1.74533154e+02,\n",
            "       -3.47082985e-01, -1.66425295e+00, -1.43224797e+07, -3.36495826e-01,\n",
            "       -1.58244741e+01, -5.01910300e+03, -1.29595393e+01, -3.47924573e-01,\n",
            "       -1.10180187e+05, -3.95277191e+05, -5.23221631e+00, -2.08904236e+00,\n",
            "       -2.10879223e+01, -3.97577634e-01, -4.25933371e-01, -9.38660074e-01,\n",
            "       -1.72838256e+01, -1.20992876e+05, -3.77211532e-01, -3.92088034e-01,\n",
            "       -2.90028772e+05, -3.58619781e-01, -3.50261532e-01, -1.34463686e+01,\n",
            "       -3.60218862e-01, -1.71353577e+02]), 'Regresja KNN': array([-0.42470126, -0.38948655, -0.37052426, -0.42897019, -0.34303444,\n",
            "       -0.42032169, -0.38538064, -0.34813751, -0.39972477, -0.40187493,\n",
            "       -0.39195567, -0.39099275, -0.38519421, -0.40278267, -0.4136492 ,\n",
            "       -0.36219079, -0.38112151, -0.40266205, -0.39609249, -0.38664437,\n",
            "       -0.40341361, -0.39822564, -0.36992334, -0.41329264, -0.39686985,\n",
            "       -0.36393984, -0.38331423, -0.36445432, -0.40178301, -0.41983919])}\n"
          ]
        },
        {
          "output_type": "display_data",
          "data": {
            "text/plain": [
              "<Figure size 1000x600 with 1 Axes>"
            ],
            "image/png": "[encoded data removed]"
          },
          "metadata": {}
        }
      ]
    },
    {
      "cell_type": "code",
      "source": [
        "model = TransformedTargetRegressor(regressor=LinearRegression())\n",
        "cv = RepeatedKFold(n_splits=5, n_repeats=5, random_state=1)\n",
        "scores_tv=cross_val_score(model, X, y, scoring='neg_mean_absolute_error', cv=cv, n_jobs=-1)\n",
        "scores=absolute(scores_tv)\n",
        "s_mean=mean(scores_tv)\n",
        "print('Mean MAE: %.3f' % (s_mean))\n",
        "\n",
        "pyplot.boxplot(scores_tv,showmeans=True)\n",
        "pyplot.show()"
      ],
      "metadata": {
        "colab": {
          "base_uri": "https://localhost:8080/",
          "height": 448
        },
        "id": "nVrzm3Ka1nyR",
        "outputId": "3338eb8a-7d3a-4226-babe-269e855fca03"
      },
      "execution_count": 33,
      "outputs": [
        {
          "output_type": "stream",
          "name": "stdout",
          "text": [
            "Mean MAE: -0.532\n"
          ]
        },
        {
          "output_type": "display_data",
          "data": {
            "text/plain": [
              "<Figure size 640x480 with 1 Axes>"
            ],
            "image/png": "[encoded data removed]"
          },
          "metadata": {}
        }
      ]
    },
    {
      "cell_type": "code",
      "source": [],
      "metadata": {
        "id": "890Zy5fE929w"
      },
      "execution_count": null,
      "outputs": []
    }
  ]
}